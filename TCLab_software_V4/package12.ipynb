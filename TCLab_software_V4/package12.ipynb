{
 "cells": [
  {
   "cell_type": "markdown",
   "id": "f57ae11c-d62f-4ceb-b4ea-b9fc91945582",
   "metadata": {},
   "source": [
    "# PACKAGE12"
   ]
  },
  {
   "cell_type": "code",
   "execution_count": null,
   "id": "95d69b7d",
   "metadata": {},
   "outputs": [],
   "source": [
    "import pandas as pd\n",
    "import numpy as np\n",
    "import matplotlib.pyplot as plt\n",
    "from scipy.optimize import minimize\n",
    "from matplotlib import colors as mcolors\n",
    "\n",
    "import package_DBR\n",
    "from package_DBR import myRound, SelectPath_RT, Delay_RT, FO_RT, FOPDT, SOPDT, FOPDT_cost, SOPDT_cost, Process, Bode"
   ]
  },
  {
   "cell_type": "markdown",
   "id": "d575ace6",
   "metadata": {},
   "source": [
    "# BROIDA1()"
   ]
  },
  {
   "cell_type": "code",
   "execution_count": null,
   "id": "11afb234-fe9b-46b3-be54-1aa30244c971",
   "metadata": {},
   "outputs": [],
   "source": [
    "help(Broida1)"
   ]
  },
  {
   "cell_type": "markdown",
   "id": "3b15be6c-b44a-46eb-8b9e-c8a417a08378",
   "metadata": {},
   "source": [
    "Help on function broida1() whose goal is to apply the first graphical broida method to the step response of MV\n",
    "\n",
    "Broida1(MV,Kp,Tg,Tu,Ts)\n",
    "    .....\n",
    "\n",
    "\n"
   ]
  },
  {
   "cell_type": "markdown",
   "id": "b0392a65-5a38-4c47-ab30-4f7807dee381",
   "metadata": {},
   "source": [
    "# BROIDA2()"
   ]
  },
  {
   "cell_type": "code",
   "execution_count": null,
   "id": "608b018b-f80c-4cb5-8c05-ed93fb8d409e",
   "metadata": {},
   "outputs": [],
   "source": [
    "help(broida2)"
   ]
  },
  {
   "cell_type": "markdown",
   "id": "d203de34-f22e-4303-9799-c0d270fd60fe",
   "metadata": {},
   "source": [
    "Help on function broida1() whose goal is to apply the second graphical broida method to the step response of MV\n",
    "\n",
    "Broida2(MV,Kp,T2,T1,Ts)\n",
    "    ....\n"
   ]
  },
  {
   "cell_type": "markdown",
   "id": "02302277-76ef-4210-a655-ccbf9bc1f40a",
   "metadata": {},
   "source": [
    "# VDG()"
   ]
  },
  {
   "cell_type": "code",
   "execution_count": null,
   "id": "d54c669d-b11d-4108-86ee-0e1829e2d61c",
   "metadata": {},
   "outputs": [],
   "source": [
    "help(VDG)"
   ]
  },
  {
   "cell_type": "markdown",
   "id": "1a449d5e-e359-4a6f-aace-e19d824360fd",
   "metadata": {},
   "source": [
    "Help on function VDG()\n",
    "impossible à réaliser de par la nature premiere de la courbe graphique : \n",
    "notre courbe est un premier ordre."
   ]
  },
  {
   "cell_type": "markdown",
   "id": "c07d047a-23c8-4d8a-9afb-a01b096473e0",
   "metadata": {},
   "source": [
    "# Strejc()"
   ]
  },
  {
   "cell_type": "code",
   "execution_count": null,
   "id": "3d8ffe64-1768-471e-843e-3ad1c11469f9",
   "metadata": {},
   "outputs": [],
   "source": [
    "help(Strejc)"
   ]
  },
  {
   "cell_type": "markdown",
   "id": "cd798eb8-c831-4f2c-9bfe-560edb62ee97",
   "metadata": {},
   "source": [
    "Help on function Strejc()"
   ]
  }
 ],
 "metadata": {
  "kernelspec": {
   "display_name": "Python 3 (ipykernel)",
   "language": "python",
   "name": "python3"
  },
  "language_info": {
   "codemirror_mode": {
    "name": "ipython",
    "version": 3
   },
   "file_extension": ".py",
   "mimetype": "text/x-python",
   "name": "python",
   "nbconvert_exporter": "python",
   "pygments_lexer": "ipython3",
   "version": "3.9.13"
  }
 },
 "nbformat": 4,
 "nbformat_minor": 5
}
